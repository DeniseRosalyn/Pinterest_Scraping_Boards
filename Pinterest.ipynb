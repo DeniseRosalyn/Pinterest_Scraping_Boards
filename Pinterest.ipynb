{
 "cells": [
  {
   "cell_type": "code",
   "execution_count": 1,
   "metadata": {
    "collapsed": true
   },
   "outputs": [],
   "source": [
    "import urllib3\n",
    "urllib3.disable_warnings()\n",
    "import warnings\n",
    "warnings.filterwarnings(\"ignore\", category=UserWarning, module='bs4')"
   ]
  },
  {
   "cell_type": "code",
   "execution_count": 2,
   "metadata": {
    "collapsed": true
   },
   "outputs": [],
   "source": [
    "username=\"zaraofficial\""
   ]
  },
  {
   "cell_type": "code",
   "execution_count": 3,
   "metadata": {
    "collapsed": true
   },
   "outputs": [],
   "source": [
    "website=\"https://in.pinterest.com/\" + username +\"/\""
   ]
  },
  {
   "cell_type": "code",
   "execution_count": 4,
   "metadata": {
    "collapsed": true
   },
   "outputs": [],
   "source": [
    "http=urllib3.PoolManager()"
   ]
  },
  {
   "cell_type": "code",
   "execution_count": 5,
   "metadata": {
    "collapsed": true
   },
   "outputs": [],
   "source": [
    "response=http.request('GET',website)"
   ]
  },
  {
   "cell_type": "code",
   "execution_count": 6,
   "metadata": {
    "collapsed": true
   },
   "outputs": [],
   "source": [
    "from bs4 import BeautifulSoup\n",
    "soup=BeautifulSoup(response.data)"
   ]
  },
  {
   "cell_type": "code",
   "execution_count": 7,
   "metadata": {
    "collapsed": true
   },
   "outputs": [],
   "source": [
    "outerDivArray=soup.find_all('div',{\"class\":'name'})"
   ]
  },
  {
   "cell_type": "code",
   "execution_count": 8,
   "metadata": {},
   "outputs": [
    {
     "data": {
      "text/plain": [
       "[<div class=\"name\" data-reactid=\"13\" style=\"padding:2px 0;\">SPRING SUMMER 2018 CAMPAIGN</div>,\n",
       " <div class=\"name\" data-reactid=\"37\" style=\"padding:2px 0;\">WOMAN</div>,\n",
       " <div class=\"name\" data-reactid=\"61\" style=\"padding:2px 0;\">TRF</div>,\n",
       " <div class=\"name\" data-reactid=\"85\" style=\"padding:2px 0;\">MAN</div>,\n",
       " <div class=\"name\" data-reactid=\"109\" style=\"padding:2px 0;\">KIDS</div>,\n",
       " <div class=\"name\" data-reactid=\"133\" style=\"padding:2px 0;\">AUTUMN WINTER 2017 CAMPAIGN</div>,\n",
       " <div class=\"name\" data-reactid=\"157\" style=\"padding:2px 0;\">SPRING SUMMER 2017 CAMPAIGN</div>,\n",
       " <div class=\"name\" data-reactid=\"181\" style=\"padding:2px 0;\">#zaradaily</div>,\n",
       " <div class=\"name\" data-reactid=\"205\" style=\"padding:2px 0;\">EVENING</div>,\n",
       " <div class=\"name\" data-reactid=\"229\" style=\"padding:2px 0;\">CAMPAIGN AUTUMN WINTER 2016</div>,\n",
       " <div class=\"name\" data-reactid=\"253\" style=\"padding:2px 0;\">CAMPAIGN SPRING SUMMER 2016</div>,\n",
       " <div class=\"name\" data-reactid=\"277\" style=\"padding:2px 0;\">CAMPAIGN AW15</div>,\n",
       " <div class=\"name\" data-reactid=\"301\" style=\"padding:2px 0;\">WOMAN LOOKBOOK</div>,\n",
       " <div class=\"name\" data-reactid=\"325\" style=\"padding:2px 0;\">SEASONALS</div>,\n",
       " <div class=\"name\" data-reactid=\"349\" style=\"padding:2px 0;\">MAN LOOKBOOK</div>,\n",
       " <div class=\"name\" data-reactid=\"373\" style=\"padding:2px 0;\">TRF LOOKBOOK</div>,\n",
       " <div class=\"name\" data-reactid=\"397\" style=\"padding:2px 0;\">KIDS LOOKBOOK</div>,\n",
       " <div class=\"name\" data-reactid=\"421\" style=\"padding:2px 0;\">PICTURES</div>,\n",
       " <div class=\"name\" data-reactid=\"445\" style=\"padding:2px 0;\">BROTHERS AND SISTERS</div>,\n",
       " <div class=\"name\" data-reactid=\"469\" style=\"padding:2px 0;\">TRENDS</div>,\n",
       " <div class=\"name\" data-reactid=\"493\" style=\"padding:2px 0;\">SPRING SUMMER CAMPAIGN</div>,\n",
       " <div class=\"name\" data-reactid=\"517\" style=\"padding:2px 0;\">CAMPAIGN AW14</div>,\n",
       " <div class=\"name\" data-reactid=\"541\" style=\"padding:2px 0;\">PLAY PROJECT</div>,\n",
       " <div class=\"name\" data-reactid=\"565\" style=\"padding:2px 0;\">CAMPAIGN SS14</div>,\n",
       " <div class=\"name\" data-reactid=\"589\" style=\"padding:2px 0;\">CAMPAIGN AW13</div>,\n",
       " <div class=\"name\" data-reactid=\"613\" style=\"padding:2px 0;\">PEOPLE!</div>,\n",
       " <div class=\"name\" data-reactid=\"637\" style=\"padding:2px 0;\">CITIES</div>,\n",
       " <div class=\"name\" data-reactid=\"661\" style=\"padding:2px 0;\">CAMPAIGN AW12</div>,\n",
       " <div class=\"name\" data-reactid=\"685\" style=\"padding:2px 0;\">CAMPAIGN SS12</div>,\n",
       " <div class=\"name\" data-reactid=\"709\" style=\"padding:2px 0;\">By/ Aaron Moran</div>,\n",
       " <div class=\"name\" data-reactid=\"733\" style=\"padding:2px 0;\">DEAR NEW YORK</div>,\n",
       " <div class=\"name\" data-reactid=\"757\" style=\"padding:2px 0;\">FILMS</div>,\n",
       " <div class=\"name\" data-reactid=\"781\" style=\"padding:2px 0;\">JOIN LIFE</div>]"
      ]
     },
     "execution_count": 8,
     "metadata": {},
     "output_type": "execute_result"
    }
   ],
   "source": [
    "outerDivArray"
   ]
  },
  {
   "cell_type": "code",
   "execution_count": 9,
   "metadata": {
    "collapsed": true
   },
   "outputs": [],
   "source": [
    "import os\n",
    "def add_to_clipboard(text):\n",
    "    import tempfile\n",
    "    with tempfile.NamedTemporaryFile(\"w\") as fp:\n",
    "        fp.write(text)\n",
    "        fp.flush()\n",
    "        command = \"pbcopy < {}\".format(fp.name)\n",
    "        os.system(command)"
   ]
  },
  {
   "cell_type": "code",
   "execution_count": 10,
   "metadata": {
    "collapsed": true
   },
   "outputs": [],
   "source": [
    "add_to_clipboard(str(soup))"
   ]
  },
  {
   "cell_type": "code",
   "execution_count": 144,
   "metadata": {},
   "outputs": [
    {
     "data": {
      "text/plain": [
       "33"
      ]
     },
     "execution_count": 144,
     "metadata": {},
     "output_type": "execute_result"
    }
   ],
   "source": [
    "len(outerDivArray)\n"
   ]
  },
  {
   "cell_type": "code",
   "execution_count": 145,
   "metadata": {
    "collapsed": true
   },
   "outputs": [],
   "source": [
    "all_board_names=[]"
   ]
  },
  {
   "cell_type": "code",
   "execution_count": 146,
   "metadata": {
    "collapsed": true
   },
   "outputs": [],
   "source": [
    "for board_name in outerDivArray:\n",
    "    all_board_names.append(board_name.text)"
   ]
  },
  {
   "cell_type": "code",
   "execution_count": 147,
   "metadata": {},
   "outputs": [
    {
     "data": {
      "text/plain": [
       "['SPRING SUMMER 2018 CAMPAIGN',\n",
       " 'WOMAN',\n",
       " 'TRF',\n",
       " 'MAN',\n",
       " 'KIDS',\n",
       " 'AUTUMN WINTER 2017 CAMPAIGN',\n",
       " 'SPRING SUMMER 2017 CAMPAIGN',\n",
       " '#zaradaily',\n",
       " 'EVENING',\n",
       " 'CAMPAIGN AUTUMN WINTER 2016',\n",
       " 'CAMPAIGN SPRING SUMMER 2016',\n",
       " 'CAMPAIGN AW15',\n",
       " 'WOMAN LOOKBOOK',\n",
       " 'SEASONALS',\n",
       " 'MAN LOOKBOOK',\n",
       " 'TRF LOOKBOOK',\n",
       " 'KIDS LOOKBOOK',\n",
       " 'PICTURES',\n",
       " 'BROTHERS AND SISTERS',\n",
       " 'TRENDS',\n",
       " 'SPRING SUMMER CAMPAIGN',\n",
       " 'CAMPAIGN AW14',\n",
       " 'PLAY PROJECT',\n",
       " 'CAMPAIGN SS14',\n",
       " 'CAMPAIGN AW13',\n",
       " 'PEOPLE!',\n",
       " 'CITIES',\n",
       " 'CAMPAIGN AW12',\n",
       " 'CAMPAIGN SS12',\n",
       " 'By/ Aaron Moran',\n",
       " 'DEAR NEW YORK',\n",
       " 'FILMS',\n",
       " 'JOIN LIFE']"
      ]
     },
     "execution_count": 147,
     "metadata": {},
     "output_type": "execute_result"
    }
   ],
   "source": [
    "all_board_names"
   ]
  }
 ],
 "metadata": {
  "kernelspec": {
   "display_name": "Python 3",
   "language": "python",
   "name": "python3"
  },
  "language_info": {
   "codemirror_mode": {
    "name": "ipython",
    "version": 3
   },
   "file_extension": ".py",
   "mimetype": "text/x-python",
   "name": "python",
   "nbconvert_exporter": "python",
   "pygments_lexer": "ipython3",
   "version": "3.6.3"
  }
 },
 "nbformat": 4,
 "nbformat_minor": 2
}
